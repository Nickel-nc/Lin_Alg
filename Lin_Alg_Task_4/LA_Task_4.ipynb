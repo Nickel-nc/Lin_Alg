{
 "cells": [
  {
   "cell_type": "markdown",
   "metadata": {},
   "source": [
    "# Линейная Алгебра"
   ]
  },
  {
   "cell_type": "markdown",
   "metadata": {
    "colab_type": "text",
    "id": "ixjV8P1IZS23"
   },
   "source": [
    "# Системы линейных уравнений. Часть 1"
   ]
  },
  {
   "cell_type": "code",
   "execution_count": 1,
   "metadata": {},
   "outputs": [],
   "source": [
    "import numpy as np\n",
    "from scipy import linalg as lg"
   ]
  },
  {
   "cell_type": "markdown",
   "metadata": {
    "colab_type": "text",
    "id": "cTVfl123ZS5O"
   },
   "source": [
    "__1.__ Решить систему уравнений методом Гаусса:\n",
    "\n",
    "$$\\begin{cases}\n",
    "x_{1}+x_{2}-x_{3}-2x_{4}=0, \\\\\n",
    "2x_{1}+x_{2}-x_{3}+x_{4}=-2, \\\\\n",
    "x_{1}+x_{2}-3x_{3}+x_{4}=4.\n",
    "\\end{cases}$$"
   ]
  },
  {
   "cell_type": "markdown",
   "metadata": {},
   "source": [
    "`Решение:`"
   ]
  },
  {
   "cell_type": "markdown",
   "metadata": {},
   "source": [
    "Запишем расширенную матрицу системы:\n",
    "\n",
    "$$\\begin{pmatrix}\n",
    "\\left.\\begin{matrix}\n",
    "1 & 1 & -1 & -2 \\\\ \n",
    "2 & 1 & -1 & 1 \\\\ \n",
    "1 & 1 & -3 & 1\n",
    "\\end{matrix}\\right|\n",
    "\\begin{matrix}\n",
    "0\\\\ \n",
    "-2\\\\\n",
    "4\n",
    "\\end{matrix}\n",
    "\\end{pmatrix}.$$"
   ]
  },
  {
   "cell_type": "markdown",
   "metadata": {},
   "source": [
    "Прибавим ко 2-й и 3-й строке 1-ю, умноженную на -2 и -1:\n",
    "\n",
    "$$\\begin{pmatrix}\n",
    "\\left.\\begin{matrix}\n",
    "1 & 1 & -1 & -2 \\\\ \n",
    "0 & -1 & 1 & 5 \\\\ \n",
    "0 & 0 & -2 & 3\n",
    "\\end{matrix}\\right|\n",
    "\\begin{matrix}\n",
    "0\\\\ \n",
    "-2\\\\\n",
    "4\n",
    "\\end{matrix}\n",
    "\\end{pmatrix}$$"
   ]
  },
  {
   "cell_type": "markdown",
   "metadata": {},
   "source": [
    "$$\\begin{cases}\n",
    "x_{1}+x_{2}-x_{3} - 2x_{4}=0 \\\\\n",
    "~~~ -x_{2}+x_{3} + x_{4}=-2 \\\\\n",
    "~~~~~~~~~~ -2x_{3} + 3x_{4} = 4\n",
    "\\end{cases}$$"
   ]
  },
  {
   "cell_type": "markdown",
   "metadata": {},
   "source": [
    "Система имеет бесконечное множество решений, $x_4$ - свободный член, _общее решение_ имеет вид:"
   ]
  },
  {
   "cell_type": "markdown",
   "metadata": {},
   "source": [
    "$$\\begin{cases}\n",
    "x_{1} = -3x_4 -2 \\\\\n",
    "x_{2} = 6.5x_4 \\\\\n",
    "x_3 = 1.5x_4 -2\n",
    "\\end{cases}$$"
   ]
  },
  {
   "cell_type": "code",
   "execution_count": 7,
   "metadata": {},
   "outputs": [
    {
     "name": "stdout",
     "output_type": "stream",
     "text": [
      "3\n",
      "3\n"
     ]
    }
   ],
   "source": [
    "A1  = np.array([[1,1,-1,-2],[2,1,-1,1],[1,1,-3,1]])\n",
    "B1  = np.array([[1,1,-1,-2, 0],[2,1,-1,1, -2],[1,1,-3,1, 4]])\n",
    "print(np.linalg.matrix_rank(A1))\n",
    "print(np.linalg.matrix_rank(B1))"
   ]
  },
  {
   "cell_type": "markdown",
   "metadata": {
    "colab_type": "text",
    "id": "cTVfl123ZS5O"
   },
   "source": [
    "__2.__ Проверить на совместность и выяснить, сколько решений будет иметь система линейных уравнений:\n",
    "\n",
    "   а) $\\begin{cases}\n",
    "3x_{1}-x_{2}+x_{3}=4, \\\\\n",
    "2x_{1}-5x_{2}-3x_{3}=-17, \\\\\n",
    "x_{1}+x_{2}-x_{3}=0;\n",
    "\\end{cases}$\n",
    "    \n",
    "   б) $\\begin{cases}\n",
    "2x_{1}-4x_{2}+6x_{3}=1, \\\\\n",
    "x_{1}-2x_{2}+3x_{3}=-2, \\\\\n",
    "3x_{1}-6x_{2}+9x_{3}=5;\n",
    "\\end{cases}$\n",
    "    \n",
    "   в) $\\begin{cases}\n",
    "x_{1}+2x_{2}+5x_{3}=4, \\\\\n",
    "3x_{1}+x_{2}-8x_{3}=-2. \n",
    "\\end{cases}$"
   ]
  },
  {
   "cell_type": "markdown",
   "metadata": {},
   "source": [
    "`Решение:`"
   ]
  },
  {
   "cell_type": "markdown",
   "metadata": {},
   "source": [
    "__в)__ система недоопределена, имеет бесконечное число решений"
   ]
  },
  {
   "cell_type": "code",
   "execution_count": 17,
   "metadata": {},
   "outputs": [
    {
     "name": "stdout",
     "output_type": "stream",
     "text": [
      "а) Система имеет единственное решение\n",
      "б) Система несовместна\n",
      "в) Система имеет бесконечное число решений\n"
     ]
    }
   ],
   "source": [
    "A21  = np.array([[3,-1,1],[2,-5,-3],[1,1,-1]])\n",
    "B21 = np.array([[3,-1,1,4],[2,-5,-3,-17],[1,1,-1,0]])\n",
    "\n",
    "A22  = np.array([[2,-4,6],[1,-2,3],[3,-6,9]])\n",
    "B22 = np.array([[2,-4,6,1],[1,-2,3,-2],[3,-6,9,5]])\n",
    "\n",
    "A23  = np.array([[1,2,5],[3,1,-8]])\n",
    "B23 = np.array([[1,2,5,4],[3,1,-8,-2]])\n",
    "\n",
    "def get_comp(mat_A, mat_B):\n",
    "    a = np.linalg.matrix_rank(mat_A)\n",
    "    b = np.linalg.matrix_rank(mat_B)\n",
    "    if a == b and b == len(mat_A[0]):\n",
    "        return \"Система имеет единственное решение\"\n",
    "    if a == b and b < len(mat_A[0]):\n",
    "        return \"Система имеет бесконечное число решений\"\n",
    "    if a < b:\n",
    "        return \"Система несовместна\"\n",
    "    \n",
    "print(f'а) {get_comp(A21,B21)}')\n",
    "print(f'б) {get_comp(A22,B22)}')\n",
    "print(f'в) {get_comp(A23,B23)}')"
   ]
  },
  {
   "cell_type": "markdown",
   "metadata": {},
   "source": [
    "__3.__ Проверить на совместность и выяснить, сколько решений будет иметь система линейных уравнений, заданная расширенной матрицей\n",
    "\n",
    "$$\\tilde{A}=\\begin{pmatrix}\n",
    "\\left.\\begin{matrix}\n",
    "1 & 3 & -2 & 4\\\\ \n",
    "0 & 5 & 0 & 1\\\\ \n",
    "0 & 0 & 3 & 0\\\\ \n",
    "0 & 0 & 0 & 2\n",
    "\\end{matrix}\\right|\n",
    "\\begin{matrix}\n",
    "3\\\\ \n",
    "2\\\\\n",
    "4\\\\\n",
    "1\n",
    "\\end{matrix}\n",
    "\\end{pmatrix}.$$"
   ]
  },
  {
   "cell_type": "markdown",
   "metadata": {},
   "source": [
    "`Решение:`"
   ]
  },
  {
   "cell_type": "markdown",
   "metadata": {},
   "source": [
    "Из заданной системы видно, что $rank$ $A = rank$ $\\tilde{A} = 4$, количество неизвестных $n=4$, таким образом выполняется условие теоремы Кронекера — Капелли для определенной матрицы с единственным решением."
   ]
  },
  {
   "cell_type": "code",
   "execution_count": 22,
   "metadata": {},
   "outputs": [
    {
     "name": "stdout",
     "output_type": "stream",
     "text": [
      " Система имеет единственное решение\n"
     ]
    }
   ],
   "source": [
    "A31  = np.array([[1,3,-2,4],[0,5,0,1],[0,0,3,0],[0,0,0,2]])\n",
    "B31 = np.array([[1,3,-2,4,3],[0,5,0,1,2],[0,0,3,0,4],[0,0,0,2,1]])\n",
    "print(f' {get_comp(A31, B31)}')"
   ]
  },
  {
   "cell_type": "markdown",
   "metadata": {},
   "source": [
    "__4.__ Дана система линейных уравнений, заданная расширенной матрицей\n",
    "\n",
    "$$\\tilde{A}=\\begin{pmatrix}\n",
    "\\left.\\begin{matrix}\n",
    "1 & 2 & 3\\\\ \n",
    "4 & 5 & 6\\\\ \n",
    "7 & 8 & 9\n",
    "\\end{matrix}\\right|\n",
    "\\begin{matrix}\n",
    "a\\\\ \n",
    "b\\\\\n",
    "c\n",
    "\\end{matrix}\n",
    "\\end{pmatrix}.$$\n",
    "\n",
    "Найти соотношение между параметрами $a$, $b$ и $c$, при которых система является несовместной."
   ]
  },
  {
   "cell_type": "markdown",
   "metadata": {},
   "source": [
    "`Решение:`"
   ]
  },
  {
   "cell_type": "markdown",
   "metadata": {},
   "source": [
    "Достаточным условием несовместности системы является: $rankA<rank \\tilde A$, приведем систему к диагональному виду:"
   ]
  },
  {
   "cell_type": "markdown",
   "metadata": {},
   "source": [
    "$$\\tilde{A}=\n",
    "\\begin{pmatrix}\n",
    "\\left.\\begin{matrix}\n",
    "1 & 2 & 3\\\\ \n",
    "4 & 5 & 6\\\\ \n",
    "7 & 8 & 9\n",
    "\\end{matrix}\\right|\n",
    "\\begin{matrix}\n",
    "a\\\\ \n",
    "b\\\\\n",
    "c\n",
    "\\end{matrix}\n",
    "\\end{pmatrix} \n",
    "=\n",
    "\\begin{pmatrix}\n",
    "\\left.\\begin{matrix}\n",
    "1 & 2 & 3\\\\ \n",
    "0 & -3 & -6\\\\ \n",
    "0 & -6 & -12\n",
    "\\end{matrix}\\right|\n",
    "\\begin{matrix}\n",
    "a\\\\ \n",
    "b-4a\\\\\n",
    "c-7a\n",
    "\\end{matrix}\n",
    "\\end{pmatrix}\n",
    "=\n",
    "\\begin{pmatrix}\n",
    "\\left.\\begin{matrix}\n",
    "1 & 2 & 3\\\\ \n",
    "0 & -3 & -6\\\\ \n",
    "0 & 0 & 0\n",
    "\\end{matrix}\\right|\n",
    "\\begin{matrix}\n",
    "a\\\\ \n",
    "b-4a\\\\\n",
    "c-7a-2b\n",
    "\\end{matrix}\n",
    "\\end{pmatrix}\n",
    "$$"
   ]
  },
  {
   "cell_type": "markdown",
   "metadata": {},
   "source": [
    "$$\\tilde{A}=\n",
    "\\begin{pmatrix}\n",
    "\\left.\\begin{matrix}\n",
    "1 & 2 & 3\\\\ \n",
    "4 & 5 & 6\\\\ \n",
    "7 & 8 & 9\n",
    "\\end{matrix}\\right|\n",
    "\\begin{matrix}\n",
    "a\\\\ \n",
    "b\\\\\n",
    "c\n",
    "\\end{matrix}\n",
    "\\end{pmatrix} \n",
    "=\n",
    "\\begin{pmatrix}\n",
    "\\left.\\begin{matrix}\n",
    "1 & 2 & 3\\\\ \n",
    "2 & 1 & 0\\\\ \n",
    "4 & 2 & 0\n",
    "\\end{matrix}\\right|\n",
    "\\begin{matrix}\n",
    "a\\\\ \n",
    "b-2a\\\\\n",
    "c-3a\n",
    "\\end{matrix}\n",
    "\\end{pmatrix}\n",
    "=\n",
    "\\begin{pmatrix}\n",
    "\\left.\\begin{matrix}\n",
    "1 & 2 & 3\\\\ \n",
    "2 & 1 & 0\\\\ \n",
    "0 & 0 & 0\n",
    "\\end{matrix}\\right|\n",
    "\\begin{matrix}\n",
    "a\\\\ \n",
    "b-2a\\\\\n",
    "c-3a-2b\n",
    "\\end{matrix}\n",
    "\\end{pmatrix}\n",
    "$$\n",
    "\n",
    "Таким образом, система будет несовместна при соблюдении соотношения __`c-3a-2b`__, или __`c-7a-2b`__"
   ]
  },
  {
   "cell_type": "markdown",
   "metadata": {
    "colab_type": "text",
    "id": "GbzywcdxfO1S"
   },
   "source": [
    "# Системы линейных уравнений. Часть 2"
   ]
  },
  {
   "cell_type": "markdown",
   "metadata": {
    "colab_type": "text",
    "id": "ZBi7FV66fPKf"
   },
   "source": [
    "__1.__ Решить систему уравнений методом Крамера:\n",
    "\n",
    "   а) $\\begin{cases}\n",
    "x_{1}-2x_{2}=1 \\\\\n",
    "3x_{1}-4x_{2}=7\n",
    "\\end{cases}$\n",
    "    \n",
    "   б) $\\begin{cases}\n",
    "2x_{1}-x_{2}+5x_{3}=10 \\\\\n",
    "x_{1}+x_{2}-3x_{3}=-2 \\\\\n",
    "2x_{1}+4x_{2}+x_{3}=1\n",
    "\\end{cases}$"
   ]
  },
  {
   "cell_type": "markdown",
   "metadata": {},
   "source": [
    "`Решение:`"
   ]
  },
  {
   "cell_type": "markdown",
   "metadata": {},
   "source": [
    "__а)__\n",
    "\n",
    "Найдем определитель матрицы коэффициентов:\n",
    "\n",
    "$$detA=\\begin{vmatrix}\n",
    "1 & -2\\\\ \n",
    "3 & -4 \n",
    "\\end{vmatrix}\n",
    "=-4 + 6 =2\\neq 0,$$\n",
    "\n",
    "Найдем определители $detA_{1}$, $detA_{2}$\n",
    "\n",
    "$$detA_1=\\begin{vmatrix}\n",
    "1 & -2\\\\ \n",
    "7 & -4 \n",
    "\\end{vmatrix}\n",
    "=-4+14 = 10$$\n",
    "\n",
    "$$detA_2=\\begin{vmatrix}\n",
    "1 & 1\\\\ \n",
    "3 & 7 \n",
    "\\end{vmatrix}\n",
    "=7-3 = 4$$\n",
    "\n",
    "Найдем решение по формулам Крамера:\n",
    "\n",
    "$$x_1 = \\frac{10}{2} = 5 $$\n",
    "\n",
    "$$x_2 = \\frac{4}{2} = 2$$"
   ]
  },
  {
   "cell_type": "markdown",
   "metadata": {},
   "source": [
    "__б)__\n",
    "\n",
    "Найдем определитель матрицы коэффициентов:\n",
    "\n",
    "$$detA=\\begin{vmatrix}\n",
    "2 & -1 & 5\\\\ \n",
    "1 & 1 & -3\\\\ \n",
    "2 & 4 & 1\n",
    "\\end{vmatrix}=\n",
    "2\\begin{vmatrix}\n",
    "1 & -3\\\\ \n",
    "4 & 1 \n",
    "\\end{vmatrix}+\n",
    "\\begin{vmatrix}\n",
    "1 & -3\\\\ \n",
    "2 & 1 \n",
    "\\end{vmatrix}+\n",
    "5\\begin{vmatrix}\n",
    "1 & 1 \\\\ \n",
    "2 & 4\n",
    "\\end{vmatrix}=2(1 + 12)+7+5(4-2)=43\\neq 0,$$\n",
    "\n",
    "Найдем определители $detA_{1}$, $detA_{2}$, $detA_{3}$:\n",
    "\n",
    "$$detA_{1}=\\begin{vmatrix}\n",
    "10 & -1 & 5\\\\ \n",
    "-2 & 1 & -3\\\\ \n",
    "1 & 4 & 1\n",
    "\\end{vmatrix}=\n",
    "10\\begin{vmatrix}\n",
    "1 & -3\\\\ \n",
    "4 & 1 \n",
    "\\end{vmatrix}+\n",
    "\\begin{vmatrix}\n",
    "-2 & -3\\\\ \n",
    "1 & 1 \n",
    "\\end{vmatrix}+\n",
    "5\\begin{vmatrix}\n",
    "-2 & 1 \\\\ \n",
    "1 & 4\n",
    "\\end{vmatrix}=10(1 + 12)+1+5(-8-1)=86$$\n",
    "\n",
    "$$detA_{2}=\\begin{vmatrix}\n",
    "2 & 10 & 5\\\\ \n",
    "1 & -2 & -3\\\\ \n",
    "2 & 1 & 1\n",
    "\\end{vmatrix}=\n",
    "2\\begin{vmatrix}\n",
    "-2 & -3\\\\ \n",
    "1 & 1 \n",
    "\\end{vmatrix}-\n",
    "10\\begin{vmatrix}\n",
    "1 & -3\\\\ \n",
    "2 & 1 \n",
    "\\end{vmatrix}+\n",
    "5\\begin{vmatrix}\n",
    "1 & -2 \\\\ \n",
    "2 & 1\n",
    "\\end{vmatrix}=2(-2+3)-10(1+6)+5(1+4)=2-70+25=-43$$\n",
    "\n",
    "$$detA_{3}=\\begin{vmatrix}\n",
    "2 & -1 & 10\\\\ \n",
    "1 & 1 & -2\\\\ \n",
    "2 & 4 & 1\n",
    "\\end{vmatrix}=\n",
    "2\\begin{vmatrix}\n",
    "1 & -2\\\\ \n",
    "4 & 1\n",
    "\\end{vmatrix}+\n",
    "\\begin{vmatrix}\n",
    "1 & 2\\\\ \n",
    "-2 & 1 \n",
    "\\end{vmatrix}+\n",
    "10\\begin{vmatrix}\n",
    "1 & 1 \\\\ \n",
    "2 & 4\n",
    "\\end{vmatrix}=2(1+8)+5+10(4-2)=18+5+20=43$$\n",
    "\n",
    "Найдем решение по формулам Крамера:\n",
    "\n",
    "$$x_{1} = \\frac{detA_{1}}{detA} = \\frac{86}{43}=2,$$\n",
    "\n",
    "$$x_{2} = \\frac{detA_{2}}{detA} = -\\frac{43}{43}=-1,$$\n",
    "\n",
    "$$x_{3} = \\frac{detA_{3}}{detA} = \\frac{43}{43}=1.$$"
   ]
  },
  {
   "cell_type": "markdown",
   "metadata": {},
   "source": [
    "__2.__ Найти $L$-матрицу $LU$-разложения для матрицы коэффициентов:\n",
    "\n",
    "   а)$$\\begin{pmatrix}\n",
    "1 & 2 & 4 \\\\ \n",
    "2 & 9 & 12 \\\\ \n",
    "3 & 26 & 30\n",
    "\\end{pmatrix}$$\n",
    "    \n",
    "   б)$$\\begin{pmatrix}\n",
    "1 & 1 & 2 & 4\\\\ \n",
    "2 & 5 & 8 & 9\\\\ \n",
    "3 & 18 & 29 & 18\\\\\n",
    "4 & 22 & 53 & 33\n",
    "\\end{pmatrix}$$\n",
    "   "
   ]
  },
  {
   "cell_type": "markdown",
   "metadata": {},
   "source": [
    "`Решение:`"
   ]
  },
  {
   "cell_type": "markdown",
   "metadata": {},
   "source": [
    "__а)__\n",
    "\n",
    "$$L=\\begin{pmatrix}\n",
    "1 & 0 & 0\\\\ \n",
    "m_{21} & 1 & 0\\\\ \n",
    "m_{31} & m_{32} & 1\n",
    "\\end{pmatrix}\n",
    "=\n",
    "\\begin{pmatrix}\n",
    "1 & 0 & 0\\\\ \n",
    "2 & 1 & 0\\\\ \n",
    "3 & 10 & 1\n",
    "\\end{pmatrix}\n",
    "$$\n",
    "\n",
    "Преобразование матрицы коэффициентов $A$:\n",
    "\n",
    "$$\\begin{pmatrix}\n",
    "1 & 2 & 4\\\\ \n",
    "0 & 5 & 4\\\\ \n",
    "0 & 20 & 18\n",
    "\\end{pmatrix}\n",
    "=\n",
    "\\begin{pmatrix}\n",
    "1 & 2 & 4\\\\ \n",
    "0 & 5 & 4\\\\ \n",
    "0 & 0 & -22\n",
    "\\end{pmatrix}\n",
    "$$"
   ]
  },
  {
   "cell_type": "code",
   "execution_count": 84,
   "metadata": {},
   "outputs": [
    {
     "name": "stdout",
     "output_type": "stream",
     "text": [
      "P:\n",
      " [[0. 0. 1.]\n",
      " [0. 1. 0.]\n",
      " [1. 0. 0.]]\n",
      "L:\n",
      " [[1.         0.         0.        ]\n",
      " [0.66666667 1.         0.        ]\n",
      " [0.33333333 0.8        1.        ]]\n",
      "U:\n",
      " [[ 3.         26.         30.        ]\n",
      " [ 0.         -8.33333333 -8.        ]\n",
      " [ 0.          0.          0.4       ]]\n",
      "\n"
     ]
    }
   ],
   "source": [
    "A_21 = np.array([\n",
    "    [1,2,4],\n",
    "    [2,9,12],\n",
    "    [3,26,30]\n",
    "])\n",
    "\n",
    "P, L, U = lg.lu(A_21)\n",
    "print(f'P:\\n {P}\\nL:\\n {L}\\nU:\\n {U}\\n')"
   ]
  },
  {
   "cell_type": "markdown",
   "metadata": {},
   "source": [
    "__б)__\n",
    "\n",
    "$$L=\\begin{pmatrix}\n",
    "1 & 0 & 0 & 0\\\\ \n",
    "m_{21} & 1 & 0 & 0\\\\ \n",
    "m_{31} & m_{32} & 1 & 0\\\\ \n",
    "m_{41} & m_{42} & m_{43} & 1\\\\ \n",
    "\\end{pmatrix}\n",
    "=\n",
    "\\begin{pmatrix}\n",
    "1 & 0 & 0 & 0\\\\ \n",
    "2 & 1 & 0 & 0\\\\ \n",
    "3 & 5 & 1 & 0\\\\ \n",
    "4 & 6 & 7 & 1\\\\ \n",
    "\\end{pmatrix}\n",
    "$$\n",
    "\n",
    "Преобразование матрицы коэффициентов $A$:\n",
    "$$\n",
    "\\begin{pmatrix}\n",
    "1 & 1 & 2 & 4\\\\ \n",
    "2 & 5 & 8 & 9\\\\ \n",
    "3 & 18 & 29 & 18\\\\ \n",
    "4 & 22 & 53 & 33\\\\ \n",
    "\\end{pmatrix}\n",
    "=\n",
    "\\begin{pmatrix}\n",
    "1 & 1 & 2 & 4\\\\ \n",
    "0 & 3 & 4 & 1\\\\ \n",
    "0 & 15 & 23 & 6\\\\ \n",
    "0 & 18 & 45 & 17\\\\ \n",
    "\\end{pmatrix}\n",
    "=\n",
    "\\begin{pmatrix}\n",
    "1 & 1 & 2 & 4\\\\ \n",
    "0 & 3 & 4 & 1\\\\ \n",
    "0 & 0 & 3 & 1\\\\ \n",
    "0 & 0 & 21 & 11\\\\ \n",
    "\\end{pmatrix}\n",
    "=\n",
    "\\begin{pmatrix}\n",
    "1 & 1 & 2 & 4\\\\ \n",
    "0 & 3 & 4 & 1\\\\ \n",
    "0 & 0 & 3 & 1\\\\ \n",
    "0 & 0 & 0 & 4\\\\ \n",
    "\\end{pmatrix}\n",
    "$$"
   ]
  },
  {
   "cell_type": "code",
   "execution_count": 85,
   "metadata": {},
   "outputs": [
    {
     "name": "stdout",
     "output_type": "stream",
     "text": [
      "P:\n",
      " [[0. 0. 0. 1.]\n",
      " [0. 1. 0. 0.]\n",
      " [0. 0. 1. 0.]\n",
      " [1. 0. 0. 0.]]\n",
      "L:\n",
      " [[ 1.          0.          0.          0.        ]\n",
      " [ 0.5         1.          0.          0.        ]\n",
      " [ 0.75       -0.25        1.          0.        ]\n",
      " [ 0.25        0.75       -0.17073171  1.        ]]\n",
      "U:\n",
      " [[  4.          22.          53.          33.        ]\n",
      " [  0.          -6.         -18.5         -7.5       ]\n",
      " [  0.           0.         -15.375       -8.625     ]\n",
      " [  0.           0.           0.          -0.09756098]]\n",
      "\n"
     ]
    }
   ],
   "source": [
    "A_22 = np.array([\n",
    "    [1,1,2,4],\n",
    "    [2,5,8,9],\n",
    "    [3,18,29,18],\n",
    "    [4,22,53,33]\n",
    "])\n",
    "P, L, U = lg.lu(A_22)\n",
    "print(f'P:\\n {P}\\nL:\\n {L}\\nU:\\n {U}\\n')"
   ]
  },
  {
   "cell_type": "markdown",
   "metadata": {},
   "source": [
    "__3.__ Решить систему линейных уравнений методом $LU$-разложения\n",
    "\n",
    "$$\\begin{cases}\n",
    "2x_{1}+x_{2}+3x_{3}=1 \\\\\n",
    "11x_{1}+7x_{2}+5x_{3}=-6 \\\\\n",
    "9x_{1}+8x_{2}+4x_{3}=-5\n",
    "\\end{cases}$$"
   ]
  },
  {
   "cell_type": "markdown",
   "metadata": {},
   "source": [
    "`Решение:`"
   ]
  },
  {
   "cell_type": "markdown",
   "metadata": {},
   "source": [
    "Матрица коэффициентов $A$ будет иметь вид\n",
    "\n",
    "$$\n",
    "\\begin{pmatrix}\n",
    "2 & 1 & 3 \\\\ \n",
    "11 & 7 & 5 \\\\ \n",
    "9 & 8 & 4\n",
    "\\end{pmatrix}\n",
    "=\n",
    "\\begin{pmatrix}\n",
    "2 & 1 & 3 \\\\ \n",
    "0 & 1.5 & -11.5 \\\\ \n",
    "0 & 3.5 & -9.5\n",
    "\\end{pmatrix}\n",
    "=\n",
    "\\begin{pmatrix}\n",
    "2 & 1 & 3 \\\\ \n",
    "0 & 1.5 & -11.5 \\\\ \n",
    "0 & 0 & -20\n",
    "\\end{pmatrix}\n",
    "$$\n",
    "\n",
    "Матрицы $LU$-разложения\n",
    "\n",
    "$$L=\\begin{pmatrix}\n",
    "1 & 0 & 0 \\\\ \n",
    "5.5 & 1 & 0 \\\\ \n",
    "4.5 & 3.5 & 1\n",
    "\\end{pmatrix}.$$\n",
    "\n",
    "$$U=\\begin{pmatrix}\n",
    "2 & 1 & 3 \\\\ \n",
    "0 & 1.5 & -11.5 \\\\ \n",
    "0 & 0 & -20\n",
    "\\end{pmatrix},$$"
   ]
  },
  {
   "cell_type": "markdown",
   "metadata": {},
   "source": [
    "Решим теперь систему \n",
    "\n",
    "$$Ly=b:$$\n",
    "\n",
    "$$\\begin{cases}\n",
    "y_{1}=1, \\\\\n",
    "5.5y_{1}+y_{2}=-6, \\\\\n",
    "4.5y_{1}+3.5y_{2}+y_{3}=-5.\n",
    "\\end{cases}$$\n",
    "\n",
    "$y_{1}=1,$\n",
    "\n",
    "$y_{2}=-11.5,$\n",
    "\n",
    "$y_{3}=-5-4.5-3.5\\cdot(-11.5)=30.75.$\n",
    "\n",
    "И затем систему\n",
    "\n",
    "$$Ux=y:$$\n",
    "\n",
    "$$\\begin{cases}\n",
    "2x_{1}+x_{2}+3x_{3}=1, \\\\\n",
    "1.5x_{2}-11.5x_{3}=-11.5, \\\\\n",
    "-20x_{3}=30.75.\n",
    "\\end{cases}$$\n",
    "\n",
    "$x_{3}=-1.5375,$\n",
    "\n",
    "$x_{2}=-\\frac{11.5+11.5\\cdot(-1.5375)}{1.5}=-19.454,$\n",
    "\n",
    "$x_{1}=\\frac{1-(-19.454)-3\\cdot(-1.5375)}{2}=12.53325.$\n",
    "\n",
    "Произведем проверку, подставив полученные значения переменных в исходную систему:"
   ]
  },
  {
   "cell_type": "code",
   "execution_count": 1,
   "metadata": {
    "scrolled": true
   },
   "outputs": [
    {
     "name": "stdout",
     "output_type": "stream",
     "text": [
      "1.0\n",
      "-5.9997499999999775\n",
      "-48.98275 - не сходится\n"
     ]
    }
   ],
   "source": [
    "x3 = -1.5375\n",
    "x2 = -19.454\n",
    "x1 = 12.53325\n",
    "print(f'{2*x1+1*x2+3*x3}')\n",
    "print(f'{11*x1+7*x2+5*x3}')\n",
    "print(f'{9*x1+8*x2+4*x3} - не сходится') "
   ]
  },
  {
   "cell_type": "code",
   "execution_count": 76,
   "metadata": {},
   "outputs": [
    {
     "name": "stdout",
     "output_type": "stream",
     "text": [
      "P:\n",
      " [[0. 0. 1.]\n",
      " [1. 0. 0.]\n",
      " [0. 1. 0.]]\n",
      "L:\n",
      " [[ 1.          0.          0.        ]\n",
      " [ 0.81818182  1.          0.        ]\n",
      " [ 0.18181818 -0.12        1.        ]]\n",
      "U:\n",
      " [[11.          7.          5.        ]\n",
      " [ 0.          2.27272727 -0.09090909]\n",
      " [ 0.          0.          2.08      ]]\n",
      "\n",
      "LU scipy-solution: [-1.00000000e+00  2.44249065e-16  1.00000000e+00]\n"
     ]
    }
   ],
   "source": [
    "# LU-разложение с помощью scipy\n",
    "\n",
    "A_3 = np.array([[2,1,3],[11,7,5],[9,8,4]])\n",
    "b_3 = np.array([1, -6, -5])\n",
    "\n",
    "P, L, U = lg.lu(A_3)\n",
    "print(f'P:\\n {P}\\nL:\\n {L}\\nU:\\n {U}\\n')\n",
    "\n",
    "lu, piv = lg.lu_factor(A_3)\n",
    "x = lg.lu_solve((lu, piv), b_3)\n",
    "print(f'LU scipy-solution: {x}')"
   ]
  },
  {
   "cell_type": "code",
   "execution_count": 80,
   "metadata": {},
   "outputs": [],
   "source": [
    "\"\"\"reference: \n",
    "\n",
    "https://slemeshevsky.github.io/python-num-pde/term1/build/html/_sles/gauss.html#sles-lu\"\"\"\n",
    "\n",
    "def gauss(x): \n",
    "    x = np.array(x,float)\n",
    "    return x[1:]/x[0]\n",
    "\n",
    "def gauss_app(C, t):\n",
    "    C = np.array(C, float)\n",
    "    t = np.array([[t[i]] for i in range(len(t))], float)\n",
    "    C[1:,:] = C[1:,:] - t*C[0,:]\n",
    "    return C\n",
    "def lu(A):\n",
    "    LU = np.array(A, float)\n",
    "    for k  in range(LU.shape[0]-1):\n",
    "        t = gauss(LU[k:, k])\n",
    "        LU[k+1:,k] = t\n",
    "        LU[k:, k+1:] = gauss_app(LU[k:, k+1:], t)\n",
    "    return LU\n",
    "\n",
    "def solve_lu(A, b):\n",
    "    LU = lu(A)\n",
    "    b = np.array(b,float)\n",
    "    for i in range(1,len(b)):\n",
    "        b[i] = b[i] - np.dot(LU[i,:i],b[:i])\n",
    "    for i in range(len(b)-1, -1, -1):\n",
    "        b[i] = (b[i] - np.dot(LU[i,i+1:],b[i+1:]))/LU[i,i]\n",
    "    return b"
   ]
  },
  {
   "cell_type": "code",
   "execution_count": 82,
   "metadata": {},
   "outputs": [
    {
     "name": "stdout",
     "output_type": "stream",
     "text": [
      "LU func-solution: [-1.  0.  1.]\n"
     ]
    }
   ],
   "source": [
    "print(f'LU func-solution: {solve_lu(A_3, b_3)}')"
   ]
  },
  {
   "cell_type": "code",
   "execution_count": 4,
   "metadata": {},
   "outputs": [
    {
     "name": "stdout",
     "output_type": "stream",
     "text": [
      "1\n",
      "-6\n",
      "-5\n"
     ]
    }
   ],
   "source": [
    "x1 = -1\n",
    "x2 = 0\n",
    "x3 = 1\n",
    "print(f'{2*x1+1*x2+3*x3}')\n",
    "print(f'{11*x1+7*x2+5*x3}')\n",
    "print(f'{9*x1+8*x2+4*x3}') "
   ]
  },
  {
   "cell_type": "markdown",
   "metadata": {},
   "source": [
    "__4.__ Решить систему линейных уравнений методом Холецкого\n",
    "\n",
    "$$\\begin{cases}\n",
    "81x_{1}-45x_{2}+45x_{3}=531 \\\\\n",
    "-45x_{1}+50x_{2}-15x_{3}=-460 \\\\\n",
    "45x_{1}-15x_{2}+38x_{3}=193\n",
    "\\end{cases}$$"
   ]
  },
  {
   "cell_type": "markdown",
   "metadata": {},
   "source": [
    "`Решение:`"
   ]
  },
  {
   "cell_type": "code",
   "execution_count": 15,
   "metadata": {},
   "outputs": [],
   "source": [
    "A_4 = np.array([\n",
    "    [81,-45,45],\n",
    "    [-45,50,-15],\n",
    "    [45,-15,38]\n",
    "])\n",
    "b_4 = np.array([531,-460,193])"
   ]
  },
  {
   "cell_type": "code",
   "execution_count": 16,
   "metadata": {},
   "outputs": [
    {
     "name": "stdout",
     "output_type": "stream",
     "text": [
      "LU scipy-solution: [ 6. -5. -4.]\n"
     ]
    }
   ],
   "source": [
    "lu, piv = lg.lu_factor(A_4)\n",
    "x = lg.lu_solve((lu, piv), b_4)\n",
    "print(f'LU scipy-solution: {x}')"
   ]
  },
  {
   "cell_type": "code",
   "execution_count": 28,
   "metadata": {},
   "outputs": [],
   "source": [
    "def ld(A):\n",
    "    \"\"\"\n",
    "    Для симметричной матрицы A вычисляет нижнюю\n",
    "    треугольную матрицу L и диагональную матрицу \n",
    "    D, такие что A = LDL^T. Элементы a_{ij} замещаются \n",
    "    на l_{ij}, если i > j, и на d_i, если i = j\n",
    "    \"\"\"\n",
    "    n = len(A)\n",
    "    LD = np.array(A, float)\n",
    "    L = np.array(A,float)\n",
    "    for j in range(n):\n",
    "        v = np.zeros(j+1)\n",
    "        v[:j] = LD[j,:j]*LD[range(j),range(j)]\n",
    "        v[j] = LD[j,j] - np.dot(LD[j,:j],v[:j])\n",
    "        LD[j,j] = v[j]\n",
    "        LD[j+1:,j] = (LD[j+1:,j] - np.dot(LD[j+1:,:j],v[:j]))/v[j]\n",
    "\n",
    "    return LD\n",
    "\n",
    "def ld_solve(A, b):\n",
    "    \"\"\"\n",
    "    Решает систему Ax = b c использованием LDL^T-разложения\n",
    "    \"\"\"\n",
    "    LD = ld(A)\n",
    "    b = np.array(b,float)\n",
    "    for i in range(1, len(b)):\n",
    "        b[i] = b[i] - np.dot(LD[i,:i],b[:i])\n",
    "    b[:] = b[:]/LD[range(len(b)),range(len(b))]\n",
    "    for i in range(len(b)-1, -1, -1):\n",
    "        b[i] = (b[i] - np.dot(LD[i+1:,i],b[i+1:]))\n",
    "    return b"
   ]
  },
  {
   "cell_type": "code",
   "execution_count": 30,
   "metadata": {},
   "outputs": [
    {
     "data": {
      "text/plain": [
       "array([ 6., -5., -4.])"
      ]
     },
     "execution_count": 30,
     "metadata": {},
     "output_type": "execute_result"
    }
   ],
   "source": [
    "ld_solve(A_4,b_4)"
   ]
  }
 ],
 "metadata": {
  "kernelspec": {
   "display_name": "Python 3",
   "language": "python",
   "name": "python3"
  },
  "language_info": {
   "codemirror_mode": {
    "name": "ipython",
    "version": 3
   },
   "file_extension": ".py",
   "mimetype": "text/x-python",
   "name": "python",
   "nbconvert_exporter": "python",
   "pygments_lexer": "ipython3",
   "version": "3.7.3"
  }
 },
 "nbformat": 4,
 "nbformat_minor": 2
}
