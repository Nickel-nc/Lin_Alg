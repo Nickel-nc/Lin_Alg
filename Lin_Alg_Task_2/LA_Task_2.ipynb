{
 "cells": [
  {
   "cell_type": "markdown",
   "metadata": {},
   "source": [
    "# Линейная Алгебра"
   ]
  },
  {
   "cell_type": "markdown",
   "metadata": {
    "colab_type": "text",
    "id": "USFuS5Q1IIIP"
   },
   "source": [
    "# Матрицы и матричные операции. Часть 1"
   ]
  },
  {
   "cell_type": "code",
   "execution_count": 26,
   "metadata": {},
   "outputs": [],
   "source": [
    "import numpy as np\n",
    "from numpy.linalg import norm"
   ]
  },
  {
   "cell_type": "markdown",
   "metadata": {
    "colab_type": "text",
    "id": "APeDlmh8IIL1"
   },
   "source": [
    "__1.__ Установить, какие произведения матриц $AB$ и $BA$ определены, и найти размерности полученных матриц:\n",
    "\n",
    "   а) $A$ — матрица $4\\times 2$, $B$ — матрица $4\\times 2$;\n",
    "    \n",
    "   б) $A$ — матрица $2\\times 5$, $B$ — матрица $5\\times 3$;\n",
    "    \n",
    "   в) $A$ — матрица $8\\times 3$, $B$ — матрица $3\\times 8$;\n",
    "    \n",
    "   г) $A$ — квадратная матрица $4\\times 4$, $B$ — квадратная матрица $4\\times 4$."
   ]
  },
  {
   "cell_type": "markdown",
   "metadata": {},
   "source": [
    "`Решение:`"
   ]
  },
  {
   "cell_type": "markdown",
   "metadata": {},
   "source": [
    "По свойству произведения двух матриц, результирующая матрица будет иметь длину `m` (длина строки 1-й матрицы) на `k` (длина столбца 2-й матрицы), при условии равенства длин двух других параметров. Таким образом:\n",
    "\n",
    "а) Матрица не определена (кол-во столбцов A не совпадает с кол-вом строк B)\n",
    "\n",
    "б) Результирующая матрица: 5 $\\times$ 3\n",
    "\n",
    "в) Результирующая матрица: 8 $\\times$ 8\n",
    "\n",
    "г) Результирующая матрица: 4 $\\times$ 4"
   ]
  },
  {
   "cell_type": "code",
   "execution_count": 49,
   "metadata": {
    "scrolled": true
   },
   "outputs": [],
   "source": [
    "A11, B11 = np.eye(4,2), np.eye(4,2)\n",
    "A12, B12 = np.eye(2,5), np.eye(5,3)\n",
    "A13, B13 = np.eye(8,3), np.eye(3,8)\n",
    "A14, B14 = np.eye(4,4), np.eye(4,4)"
   ]
  },
  {
   "cell_type": "code",
   "execution_count": 104,
   "metadata": {},
   "outputs": [],
   "source": [
    "# > np.dot(A11, B11) \n",
    "# < ValueError: shapes (4,2) and (4,2) not aligned: 2 (dim 1) != 4 (dim 0)"
   ]
  },
  {
   "cell_type": "code",
   "execution_count": 51,
   "metadata": {},
   "outputs": [
    {
     "name": "stdout",
     "output_type": "stream",
     "text": [
      "Размер 2-й матрицы: (2, 3)\n",
      "Размер 3-й матрицы: (8, 8)\n",
      "Размер 4-й матрицы: (4, 4)\n"
     ]
    }
   ],
   "source": [
    "print(f'Размер 2-й матрицы: {np.dot(A12, B12).shape}')\n",
    "print(f'Размер 3-й матрицы: {np.dot(A13, B13).shape}')\n",
    "print(f'Размер 4-й матрицы: {np.dot(A14, B14).shape}')"
   ]
  },
  {
   "cell_type": "markdown",
   "metadata": {},
   "source": [
    "__2.__ Найти сумму и произведение матриц $A=\\begin{pmatrix}\n",
    "1 & -2\\\\ \n",
    "3 & 0\n",
    "\\end{pmatrix}$ и $B=\\begin{pmatrix}\n",
    "4 & -1\\\\ \n",
    "0 & 5\n",
    "\\end{pmatrix}.$"
   ]
  },
  {
   "cell_type": "markdown",
   "metadata": {},
   "source": [
    "`Решение:`"
   ]
  },
  {
   "cell_type": "markdown",
   "metadata": {},
   "source": [
    "$$A + B = \n",
    "\\begin{pmatrix}\n",
    "1 & -2\\\\ \n",
    "3 & 0\n",
    "\\end{pmatrix} +\n",
    "\\begin{pmatrix}\n",
    "4 & -1\\\\ \n",
    "0 & 5\n",
    "\\end{pmatrix} = \n",
    "\\begin{pmatrix}\n",
    "1 + 4 & -2 + (-1)\\\\ \n",
    "3 + 0 & 0 + 5\n",
    "\\end{pmatrix} = \n",
    "\\begin{pmatrix}\n",
    "5 & -3\\\\ \n",
    "3 & 5\n",
    "\\end{pmatrix},\n",
    "$$"
   ]
  },
  {
   "cell_type": "markdown",
   "metadata": {},
   "source": [
    "$$A \\times B = \n",
    "\\begin{pmatrix}\n",
    "1 & -2\\\\ \n",
    "3 & 0\n",
    "\\end{pmatrix} \\cdot\n",
    "\\begin{pmatrix}\n",
    "4 & -1\\\\ \n",
    "0 & 5\n",
    "\\end{pmatrix} = \n",
    "\\begin{pmatrix}\n",
    "1\\cdot 4 + (-2)\\cdot 0 & 1\\cdot(-1) + (-2)\\cdot 5\\\\ \n",
    "3\\cdot 4 + 0\\cdot 0 & 3\\cdot(-1) + 0\\cdot 5\n",
    "\\end{pmatrix} = \n",
    "\\begin{pmatrix}\n",
    "4 & -11\\\\ \n",
    "12 & -3\n",
    "\\end{pmatrix}.\n",
    "$$"
   ]
  },
  {
   "cell_type": "markdown",
   "metadata": {},
   "source": [
    "$$B \\times A = \n",
    "\\begin{pmatrix}\n",
    "4 & -1\\\\ \n",
    "0 & 5\n",
    "\\end{pmatrix} \\cdot\n",
    "\\begin{pmatrix}\n",
    "1 & -2\\\\ \n",
    "3 & 0\n",
    "\\end{pmatrix} = \n",
    "\\begin{pmatrix}\n",
    "4\\cdot 1 + (-1)\\cdot 3 & 4\\cdot(-2) + (-1)\\cdot 0\\\\ \n",
    "0\\cdot 1 + 5\\cdot 3 & 0\\cdot(-2) + 5\\cdot 0\n",
    "\\end{pmatrix} = \n",
    "\\begin{pmatrix}\n",
    "1 & -8\\\\ \n",
    "15 & 0\n",
    "\\end{pmatrix}.\n",
    "$$"
   ]
  },
  {
   "cell_type": "code",
   "execution_count": 206,
   "metadata": {},
   "outputs": [
    {
     "name": "stdout",
     "output_type": "stream",
     "text": [
      "[[ 5 -3]\n",
      " [ 3  5]]\n",
      "\n",
      "[[  4 -11]\n",
      " [ 12  -3]]\n",
      "\n",
      "[[ 1 -8]\n",
      " [15  0]]\n"
     ]
    }
   ],
   "source": [
    "A21 = np.array([\n",
    "    [1,-2],\n",
    "    [3,0]\n",
    "])\n",
    "\n",
    "B21 = np.array([\n",
    "    [4,-1],\n",
    "    [0,5]\n",
    "])\n",
    "\n",
    "print(A21 + B21)\n",
    "print()\n",
    "print(np.dot(A21,B21))\n",
    "print()\n",
    "print(np.dot(B21,A21))"
   ]
  },
  {
   "cell_type": "markdown",
   "metadata": {},
   "source": [
    "__3.__ Из закономерностей сложения и умножения матриц на число можно сделать вывод, что матрицы одного размера образуют линейное пространство. Вычислить линейную комбинацию $3A-2B+4C$ для матриц $A=\\begin{pmatrix}\n",
    "1 & 7\\\\ \n",
    "3 & -6\n",
    "\\end{pmatrix}$, $B=\\begin{pmatrix}\n",
    "0 & 5\\\\ \n",
    "2 & -1\n",
    "\\end{pmatrix}$, $C=\\begin{pmatrix}\n",
    "2 & -4\\\\ \n",
    "1 & 1\n",
    "\\end{pmatrix}.$"
   ]
  },
  {
   "cell_type": "markdown",
   "metadata": {},
   "source": [
    "`Решение:`"
   ]
  },
  {
   "cell_type": "code",
   "execution_count": 62,
   "metadata": {
    "scrolled": true
   },
   "outputs": [
    {
     "data": {
      "text/plain": [
       "array([[ 11,  -5],\n",
       "       [  9, -12]])"
      ]
     },
     "execution_count": 62,
     "metadata": {},
     "output_type": "execute_result"
    }
   ],
   "source": [
    "A31 = np.array([\n",
    "    [1,7],\n",
    "    [3,-6]\n",
    "])\n",
    "\n",
    "B31 = np.array([\n",
    "    [0,5],\n",
    "    [2,-1]\n",
    "])\n",
    "\n",
    "C31 = np.array([\n",
    "    [2,-4],\n",
    "    [1,1]\n",
    "])\n",
    "\n",
    "3 * A31 - 2 * B31 + 4 * C31"
   ]
  },
  {
   "cell_type": "markdown",
   "metadata": {},
   "source": [
    "__4.__ Дана матрица $A=\\begin{pmatrix}\n",
    "4 & 1\\\\ \n",
    "5 & -2\\\\ \n",
    "2 & 3\n",
    "\\end{pmatrix}$.\n",
    "Вычислить $AA^{T}$ и $A^{T}A$."
   ]
  },
  {
   "cell_type": "markdown",
   "metadata": {},
   "source": [
    "`Решение:`"
   ]
  },
  {
   "cell_type": "markdown",
   "metadata": {},
   "source": [
    "$AA^T = \n",
    "\\begin{pmatrix}\n",
    "4 & 1\\\\ \n",
    "5 & -2\\\\ \n",
    "2 & 3\n",
    "\\end{pmatrix}\n",
    "\\cdot\n",
    "\\begin{pmatrix}\n",
    "4 & 5 & 2\\\\ \n",
    "1 & -2 & 3 \n",
    "\\end{pmatrix}\n",
    "=\n",
    "\\begin{pmatrix}\n",
    "4 \\cdot 4 + 1 \\cdot 1 & 4 \\cdot 5 + 1 \\cdot (-2) & 4 \\cdot 2 + 1 \\cdot 3\\\\ \n",
    "5 \\cdot 4 + (-2) \\cdot 1 & 5 \\cdot 5 + (-2) \\cdot (-2) & 5 \\cdot 2 + (-2) \\cdot 3\\\\ \n",
    "2 \\cdot 4 + 3 \\cdot 1 & 2 \\cdot 5 + 3 \\cdot (-2) & 2 \\cdot 2 + 3 \\cdot 3\n",
    "\\end{pmatrix}\n",
    "=\n",
    "\\begin{pmatrix}\n",
    "17 & 18 & 11 \\\\\n",
    "18 & 29 & 4 \\\\\n",
    "11 & 4 & 13\n",
    "\\end{pmatrix}$"
   ]
  },
  {
   "cell_type": "markdown",
   "metadata": {},
   "source": [
    "$A^TA = \n",
    "\\begin{pmatrix}\n",
    "4 & 5 & 2\\\\ \n",
    "1 & -2 & 3 \n",
    "\\end{pmatrix}\n",
    "\\cdot\n",
    "\\begin{pmatrix}\n",
    "4 & 1\\\\ \n",
    "5 & -2\\\\ \n",
    "2 & 3\n",
    "\\end{pmatrix}\n",
    "=\n",
    "\\begin{pmatrix}\n",
    "4 \\cdot 4 + 5 \\cdot 5 + 2 \\cdot 2 & 4 \\cdot 1 + 5 \\cdot (-2) + 2 \\cdot 3\\\\ \n",
    "1 \\cdot 4 + (-2) \\cdot 5 + 3 \\cdot 2 & 1 \\cdot 1 + (-2) \\cdot (-2) + 3 \\cdot 3\n",
    "\\end{pmatrix}\n",
    "=\n",
    "\\begin{pmatrix}\n",
    "45 & 0 \\\\\n",
    "0 & 14\n",
    "\\end{pmatrix}$"
   ]
  },
  {
   "cell_type": "code",
   "execution_count": 27,
   "metadata": {},
   "outputs": [
    {
     "name": "stdout",
     "output_type": "stream",
     "text": [
      "[[17 18 11]\n",
      " [18 29  4]\n",
      " [11  4 13]]\n",
      "\n",
      "[[45  0]\n",
      " [ 0 14]]\n"
     ]
    }
   ],
   "source": [
    "A41 = np.array([\n",
    "    [4,1],\n",
    "    [5,-2],\n",
    "    [2,3]\n",
    "])\n",
    "print(np.dot(A41, A41.T))\n",
    "print()\n",
    "print(np.dot(A41.T, A41))"
   ]
  },
  {
   "cell_type": "markdown",
   "metadata": {},
   "source": [
    "__5*.__ Написать на Python функцию для перемножения двух произвольных матриц, не используя NumPy."
   ]
  },
  {
   "cell_type": "code",
   "execution_count": 94,
   "metadata": {},
   "outputs": [],
   "source": [
    "def mat_mul(A, B): # На входе 2 матрицы (list)\n",
    "    res = [[0 for x in range(len(A))] for y in range(len(B[0]))] # Генерация результирующей матрицы\n",
    "    assert len(A[0]) == len(B)\n",
    "    for i in range (len(A)):\n",
    "        for j in range(len(B[0])):\n",
    "            for k in range (len(A[0])): # Итерация по каждому элементу матрицы с учетом общей размерности.\n",
    "                res[i][j] += A[i][k] * B[k][j]\n",
    "    return res"
   ]
  },
  {
   "cell_type": "code",
   "execution_count": 95,
   "metadata": {},
   "outputs": [
    {
     "name": "stdout",
     "output_type": "stream",
     "text": [
      "[[32, 55, 10], [31, 43, 10], [41, 57, 14]]\n"
     ]
    }
   ],
   "source": [
    "A = [[1,2,3,4],[3,4,2,1],[5,6,2,1]]\n",
    "B = [[1,2,1],[4,5,1], [5,5,1], [2,7,1]]\n",
    "# A, B = np.eye(10,5), np.eye(5,10)\n",
    "print(mat_mul(A,B))"
   ]
  },
  {
   "cell_type": "code",
   "execution_count": 96,
   "metadata": {},
   "outputs": [
    {
     "name": "stdout",
     "output_type": "stream",
     "text": [
      "[[32 55 10]\n",
      " [31 43 10]\n",
      " [41 57 14]]\n"
     ]
    }
   ],
   "source": [
    "print(np.dot(A,B))"
   ]
  },
  {
   "cell_type": "markdown",
   "metadata": {
    "colab_type": "text",
    "id": "N7Ec4jnDWtQg"
   },
   "source": [
    "# Матрицы и матричные операции. Часть 2"
   ]
  },
  {
   "cell_type": "markdown",
   "metadata": {
    "colab_type": "text",
    "id": "H3qXQfJ-WtUp"
   },
   "source": [
    "Все задания рекомендуется выполнять вручную, затем проверяя полученные результаты с использованием Numpy.\n",
    "\n",
    "__1.__ Вычислить определитель:\n",
    "\n",
    "   a)\n",
    "\n",
    "$$\\begin{vmatrix}\n",
    "sinx & -cosx\\\\ \n",
    "cosx & sinx\n",
    "\\end{vmatrix};$$\n",
    "\n",
    "   б)\n",
    "    \n",
    "$$\\begin{vmatrix}\n",
    "4 & 2 & 3\\\\ \n",
    "0 & 5 & 1\\\\ \n",
    "0 & 0 & 9\n",
    "\\end{vmatrix};$$\n",
    "    \n",
    "   в)\n",
    "\n",
    "$$\\begin{vmatrix}\n",
    "1 & 2 & 3\\\\ \n",
    "4 & 5 & 6\\\\ \n",
    "7 & 8 & 9\n",
    "\\end{vmatrix}.$$\n"
   ]
  },
  {
   "cell_type": "markdown",
   "metadata": {},
   "source": [
    "`Решение:`"
   ]
  },
  {
   "cell_type": "markdown",
   "metadata": {},
   "source": [
    "__a)__\n",
    "\n",
    "$$det \n",
    "\\begin{vmatrix}\n",
    "\\sin x & -\\cos x\\\\ \n",
    "\\cos x & \\sin x\n",
    "\\end{vmatrix}\n",
    "=\n",
    "\\sin x \\cdot \\sin x + \\cos x \\cdot \\cos x  = 1$$"
   ]
  },
  {
   "cell_type": "code",
   "execution_count": 98,
   "metadata": {},
   "outputs": [
    {
     "data": {
      "text/plain": [
       "1.0"
      ]
     },
     "execution_count": 98,
     "metadata": {},
     "output_type": "execute_result"
    }
   ],
   "source": [
    "x = 12345\n",
    "\n",
    "A_11 = np.array([\n",
    "    [np.sin(x), -np.cos(x)],\n",
    "    [np.cos(x), np.sin(x)]\n",
    "])\n",
    "\n",
    "round(np.linalg.det(A_11))"
   ]
  },
  {
   "cell_type": "markdown",
   "metadata": {},
   "source": [
    "__б)__\n",
    "\n",
    "$$det\n",
    "\\begin{vmatrix}\n",
    "4 & 2 & 3\\\\ \n",
    "0 & 5 & 1\\\\ \n",
    "0 & 0 & 9\n",
    "\\end{vmatrix}\n",
    "=\n",
    "4\\cdot\\begin{vmatrix}\n",
    "5 & 1\\\\ \n",
    "0 & 9\n",
    "\\end{vmatrix}-\n",
    "2\\cdot\\begin{vmatrix}\n",
    "0 & 1\\\\ \n",
    "0 & 9\n",
    "\\end{vmatrix}+\n",
    "3\\cdot\\begin{vmatrix}\n",
    "0 & 5\\\\ \n",
    "0 & 0\n",
    "\\end{vmatrix}\n",
    "=\n",
    "4\\cdot(5\\cdot9) - 2\\cdot0 + 3\\cdot 0 = 180\n",
    "$$"
   ]
  },
  {
   "cell_type": "code",
   "execution_count": 84,
   "metadata": {},
   "outputs": [
    {
     "data": {
      "text/plain": [
       "180.0"
      ]
     },
     "execution_count": 84,
     "metadata": {},
     "output_type": "execute_result"
    }
   ],
   "source": [
    "A_12 = np.array([\n",
    "    [4,2,3],\n",
    "    [0,5,1],\n",
    "    [0,0,9]\n",
    "])\n",
    "np.linalg.det(A_12)"
   ]
  },
  {
   "cell_type": "markdown",
   "metadata": {},
   "source": [
    "__в)__\n",
    "\n",
    "$$det\n",
    "\\begin{vmatrix}\n",
    "1 & 2 & 3\\\\ \n",
    "4 & 5 & 6\\\\ \n",
    "7 & 8 & 9\n",
    "\\end{vmatrix}\n",
    "=\n",
    "((1\\cdot 5 \\cdot 9) + (2 \\cdot 6 \\cdot 7) + (4 \\cdot 8 \\cdot 3) - ((3 \\cdot 5 \\cdot 7) + (6 \\cdot 8 \\cdot 1) + (2 \\cdot 4 \\cdot 9))\n",
    "= (45 + 84 + 96) - (105 + 48 + 72) = 0 \n",
    "$$"
   ]
  },
  {
   "cell_type": "code",
   "execution_count": 103,
   "metadata": {},
   "outputs": [
    {
     "data": {
      "text/plain": [
       "-0.0"
      ]
     },
     "execution_count": 103,
     "metadata": {},
     "output_type": "execute_result"
    }
   ],
   "source": [
    "A_13 = np.array([\n",
    "    [1,2,3],\n",
    "    [4,5,6],\n",
    "    [7,8,9]\n",
    "])\n",
    "round(np.linalg.det(A_13))"
   ]
  },
  {
   "cell_type": "markdown",
   "metadata": {},
   "source": [
    "__2.__ Определитель матрицы $A$ равен $4$. Найти:\n",
    "\n",
    "   а) $det(A^{2})$;\n",
    "    \n",
    "   б) $det(A^{T})$;\n",
    "    \n",
    "   в) $det(2A)$."
   ]
  },
  {
   "cell_type": "markdown",
   "metadata": {},
   "source": [
    "`Решение:`"
   ]
  },
  {
   "cell_type": "markdown",
   "metadata": {},
   "source": [
    "- При возведении матрицы в степень, определитель получит такую же степень\n",
    "- Определители транспонированной матрицы равен определителю исходной\n",
    "- При умножении матрицы на число, определитель матрицы будет умножен на то же число в степени, равной количеству строк/столбцов."
   ]
  },
  {
   "cell_type": "code",
   "execution_count": 191,
   "metadata": {},
   "outputs": [
    {
     "data": {
      "text/plain": [
       "4.0"
      ]
     },
     "execution_count": 191,
     "metadata": {},
     "output_type": "execute_result"
    }
   ],
   "source": [
    "A_21 = np.array([\n",
    "    [4,2,2],\n",
    "    [1,4,1],\n",
    "    [1,2,1]\n",
    "])\n",
    "round(np.linalg.det(A_21))"
   ]
  },
  {
   "cell_type": "code",
   "execution_count": 192,
   "metadata": {},
   "outputs": [
    {
     "name": "stdout",
     "output_type": "stream",
     "text": [
      "16.0\n",
      "4.0\n",
      "32.0\n"
     ]
    }
   ],
   "source": [
    "print(round(np.linalg.det(np.dot(A_21,A_21))))\n",
    "print(round(np.linalg.det(A_21.T)))\n",
    "print(round(np.linalg.det(2 * A_21)))"
   ]
  },
  {
   "cell_type": "markdown",
   "metadata": {},
   "source": [
    "__3.__  Доказать, что матрица\n",
    "\n",
    "$$\\begin{pmatrix}\n",
    "-2 & 7 & -3\\\\ \n",
    "4 & -14 & 6\\\\ \n",
    "-3 & 7 & 13\n",
    "\\end{pmatrix}$$\n",
    "   \n",
    "вырожденная.\n",
    "\n"
   ]
  },
  {
   "cell_type": "markdown",
   "metadata": {},
   "source": [
    "`Решение:`"
   ]
  },
  {
   "cell_type": "markdown",
   "metadata": {},
   "source": [
    "Матрица называется сингулярной, или __вырожденной__, если ее __определитель равен нулю__"
   ]
  },
  {
   "cell_type": "markdown",
   "metadata": {},
   "source": [
    "$$det\n",
    "\\begin{vmatrix}\n",
    "-2 & 7 & -3\\\\ \n",
    "4 & -14 & 6\\\\ \n",
    "-3 & 7 & 13\n",
    "\\end{vmatrix}\n",
    "=\n",
    "((-2\\cdot -14 \\cdot 13) + (7 \\cdot 6 \\cdot -3) + (4 \\cdot 7 \\cdot -3) - ((-3 \\cdot -14 \\cdot -3) + (4 \\cdot 7 \\cdot 13) + (7 \\cdot 6 \\cdot -2))\n",
    "= (154) - (154) = 0 \n",
    "$$"
   ]
  },
  {
   "cell_type": "code",
   "execution_count": 194,
   "metadata": {},
   "outputs": [
    {
     "data": {
      "text/plain": [
       "0.0"
      ]
     },
     "execution_count": 194,
     "metadata": {},
     "output_type": "execute_result"
    }
   ],
   "source": [
    "A_31 = np.array([\n",
    "    [-2,7,-3],\n",
    "    [4,-14,6],\n",
    "    [-3,7,13]\n",
    "])\n",
    "round(np.linalg.det(A_31))"
   ]
  },
  {
   "cell_type": "markdown",
   "metadata": {},
   "source": [
    "__4.__ Найти ранг матрицы:\n",
    "\n",
    "   а) $\\begin{pmatrix}\n",
    "1 & 2 & 3\\\\ \n",
    "1 & 1 & 1\\\\ \n",
    "2 & 3 & 4\n",
    "\\end{pmatrix};$\n",
    "\n",
    "   б) $\\begin{pmatrix}\n",
    "0 & 0 & 2 & 1\\\\ \n",
    "0 & 0 & 2 & 2\\\\ \n",
    "0 & 0 & 4 & 3\\\\ \n",
    "2 & 3 & 5 & 6\n",
    "\\end{pmatrix}.$"
   ]
  },
  {
   "cell_type": "markdown",
   "metadata": {},
   "source": [
    "`Решение:`"
   ]
  },
  {
   "cell_type": "markdown",
   "metadata": {},
   "source": [
    "__a)__\n",
    "\n",
    "\n",
    "Третья строка является вырожденной (сумма первой и второй). \n",
    "\n",
    "Видно, что как минимум 1 минор 2-го порядка имеет ненулевой определитель, соответственно ранг матрицы равен 2\n",
    "\n",
    "__б)__\n",
    "\n",
    "Первый столбец имеет линейную зависимость от 2-го (умножаем на -1.5 и складываем).\n",
    "\n",
    "Нетрудно заметить, что определитель минора 3-го порядка\n",
    "$\\begin{vmatrix}\n",
    "0 & 2 & 2\\\\ \n",
    "0 & 4 & 3\\\\ \n",
    "3 & 5 & 6\n",
    "\\end{vmatrix}\n",
    "$ отличен от нуля, и равен - 6, соответственно, ранг матрицы равен 3"
   ]
  },
  {
   "cell_type": "code",
   "execution_count": 195,
   "metadata": {},
   "outputs": [],
   "source": [
    "A_41 = np.array([\n",
    "    [1,2,3],\n",
    "    [1,1,1],\n",
    "    [2,3,4]\n",
    "])\n",
    "\n",
    "A_42 = np.array([\n",
    "    [0,0,2,1],\n",
    "    [0,0,2,2],\n",
    "    [0,0,4,3],\n",
    "    [2,3,5,6]\n",
    "])"
   ]
  },
  {
   "cell_type": "code",
   "execution_count": 204,
   "metadata": {},
   "outputs": [
    {
     "data": {
      "text/plain": [
       "2"
      ]
     },
     "execution_count": 204,
     "metadata": {},
     "output_type": "execute_result"
    }
   ],
   "source": [
    "np.linalg.matrix_rank(A_41)"
   ]
  },
  {
   "cell_type": "code",
   "execution_count": 205,
   "metadata": {},
   "outputs": [
    {
     "data": {
      "text/plain": [
       "3"
      ]
     },
     "execution_count": 205,
     "metadata": {},
     "output_type": "execute_result"
    }
   ],
   "source": [
    "np.linalg.matrix_rank(A_42)"
   ]
  },
  {
   "cell_type": "markdown",
   "metadata": {},
   "source": [
    "__* Построить ортогональную матрицу, сравнить результат транспонирования и нахождения обратной матрицы__"
   ]
  },
  {
   "cell_type": "code",
   "execution_count": 244,
   "metadata": {},
   "outputs": [
    {
     "name": "stdout",
     "output_type": "stream",
     "text": [
      "A matrix:\n",
      "\n",
      "[[0 0 0 1]\n",
      " [0 0 1 0]\n",
      " [1 0 0 0]\n",
      " [0 1 0 0]] \n",
      "\n",
      "A.inv:\n",
      "\n",
      "[[0. 0. 1. 0.]\n",
      " [0. 0. 0. 1.]\n",
      " [0. 1. 0. 0.]\n",
      " [1. 0. 0. 0.]] \n",
      "\n",
      "A * A.T:\n",
      "\n",
      "[[1 0 0 0]\n",
      " [0 1 0 0]\n",
      " [0 0 1 0]\n",
      " [0 0 0 1]] \n",
      "\n",
      "A * A.inv:\n",
      "\n",
      "[[1. 0. 0. 0.]\n",
      " [0. 1. 0. 0.]\n",
      " [0. 0. 1. 0.]\n",
      " [0. 0. 0. 1.]]\n"
     ]
    }
   ],
   "source": [
    "# Матрица подстановки\n",
    "A0 = np.array([\n",
    "    [0,0,0,1],\n",
    "    [0,0,1,0],\n",
    "    [1,0,0,0],\n",
    "    [0,1,0,0]\n",
    "])\n",
    "print('A matrix:\\n')\n",
    "print(A0,'\\n')\n",
    "print('A.inv:\\n')\n",
    "print(np.linalg.inv(A0),'\\n')\n",
    "print('A * A.T:\\n')\n",
    "print(np.dot(A0, A0.T),'\\n')\n",
    "print('A * A.inv:\\n')\n",
    "print(np.dot(np.linalg.inv(A0), A0))"
   ]
  },
  {
   "cell_type": "code",
   "execution_count": 261,
   "metadata": {},
   "outputs": [
    {
     "name": "stdout",
     "output_type": "stream",
     "text": [
      "A matrix:\n",
      "\n",
      "[[ 0.96 -0.28]\n",
      " [ 0.28  0.96]] \n",
      "\n",
      "A.inv:\n",
      "\n",
      "[[ 0.96  0.28]\n",
      " [-0.28  0.96]] \n",
      "\n",
      "A * A.T:\n",
      "\n",
      "[[1. 0.]\n",
      " [0. 1.]] \n",
      "\n",
      "A * A.inv:\n",
      "\n",
      "[[1. 0.]\n",
      " [0. 1.]] \n",
      "\n"
     ]
    }
   ],
   "source": [
    "# Матрица поворота\n",
    "A01 = np.array([\n",
    "    [0.96,-0.28],\n",
    "    [0.28,0.96]\n",
    "])\n",
    "print('A matrix:\\n')\n",
    "print(A01,'\\n')\n",
    "print('A.inv:\\n')\n",
    "print(np.linalg.inv(A01),'\\n')\n",
    "print('A * A.T:\\n')\n",
    "print(np.dot(A01, A01.T).round(),'\\n')\n",
    "print('A * A.inv:\\n')\n",
    "print(np.dot(np.linalg.inv(A01), A01).round(),'\\n')"
   ]
  }
 ],
 "metadata": {
  "kernelspec": {
   "display_name": "Python 3",
   "language": "python",
   "name": "python3"
  },
  "language_info": {
   "codemirror_mode": {
    "name": "ipython",
    "version": 3
   },
   "file_extension": ".py",
   "mimetype": "text/x-python",
   "name": "python",
   "nbconvert_exporter": "python",
   "pygments_lexer": "ipython3",
   "version": "3.7.3"
  }
 },
 "nbformat": 4,
 "nbformat_minor": 2
}
