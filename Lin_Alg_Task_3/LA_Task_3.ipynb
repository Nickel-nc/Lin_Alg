{
 "cells": [
  {
   "cell_type": "markdown",
   "metadata": {},
   "source": [
    "# Линейная Алгебра"
   ]
  },
  {
   "cell_type": "markdown",
   "metadata": {
    "colab_type": "text",
    "id": "6PJL0hfnCGxS"
   },
   "source": [
    "# Линейные преобразования"
   ]
  },
  {
   "cell_type": "code",
   "execution_count": 2,
   "metadata": {},
   "outputs": [],
   "source": [
    "import numpy as np\n",
    "import matplotlib.pyplot as plt\n",
    "np.set_printoptions(precision=2, suppress=True)"
   ]
  },
  {
   "cell_type": "markdown",
   "metadata": {},
   "source": [
    "__1.__ Найти собственные векторы и собственные значения для линейного оператора, заданного матрицей\n",
    "\n",
    "$$A=\\begin{pmatrix}\n",
    "-1 & -6\\\\ \n",
    "2 & 6\n",
    "\\end{pmatrix}.$$"
   ]
  },
  {
   "cell_type": "markdown",
   "metadata": {},
   "source": [
    "`Решение:`"
   ]
  },
  {
   "cell_type": "markdown",
   "metadata": {},
   "source": [
    "$$Ae_{1}=-1\\cdot e_{1}+2\\cdot e_{2},$$\n",
    "\n",
    "$$Ae_{2}=-6\\cdot e_{1}+6\\cdot e_{2}.$$"
   ]
  },
  {
   "cell_type": "markdown",
   "metadata": {},
   "source": [
    "$$\\begin{vmatrix}\n",
    "-1-\\lambda & -6\\\\ \n",
    "2 & 6-\\lambda\n",
    "\\end{vmatrix} = 0,$$\n",
    "\n",
    "$$(-1-\\lambda)(6-\\lambda)-(-6)\\cdot2=0,$$\n",
    "\n",
    "$$-6- 6\\lambda + \\lambda + \\lambda^2 + 12=0,$$\n",
    "\n",
    "$$\\lambda^2 - 5\\lambda + 6 = 0$$\n",
    "\n",
    "$$D: 25-24 = 1 $$\n",
    "$$\\lambda_1 = \\frac{5+1}{2} = 3$$\n",
    "$$\\lambda_2 = \\frac{5-1}{2} = 2$$\n",
    "\n",
    "$Собственные$ $значения: \\lambda_1 = 2, \\lambda_2 = 3$"
   ]
  },
  {
   "cell_type": "markdown",
   "metadata": {
    "colab_type": "text",
    "id": "AU_jIiJLCG1B"
   },
   "source": [
    "Находим собственные векторы вида $\\begin{pmatrix}\n",
    "x_{1}\\\\ \n",
    "x_{2}\n",
    "\\end{pmatrix}$, подставив полученное собственное значение в выражение $\\textbf{A}x=\\lambda x$:\n",
    "\n",
    "$$\\begin{pmatrix}\n",
    "-1 & -6\\\\ \n",
    "2 & 6\n",
    "\\end{pmatrix}\n",
    "\\begin{pmatrix}\n",
    "x_{1}\\\\ \n",
    "x_{2}\n",
    "\\end{pmatrix}=\n",
    "\\lambda\n",
    "\\begin{pmatrix}\n",
    "x_{1}\\\\ \n",
    "x_{2}\n",
    "\\end{pmatrix}.\n",
    "$$"
   ]
  },
  {
   "cell_type": "markdown",
   "metadata": {
    "colab_type": "text",
    "id": "_8uW26YXCG1D"
   },
   "source": [
    "$\\lambda_1 = 3$:\n",
    "\n",
    "$$\\begin{cases}\n",
    "-x_{1}-6\\cdot x_{2}= 3\\cdot x_{1} \\\\\n",
    "2\\cdot x_{1}+6\\cdot x_{2}= 3\\cdot x_{2}\n",
    "\\end{cases}$$\n",
    "\n",
    "$$\\begin{cases}\n",
    "-4x_{1}-6x_{2}= 0 \\\\\n",
    "2x_{1}+3x_{2}= 0\n",
    "\\end{cases}$$\n",
    "\n",
    "$$x_1 = -1.5x_2$$\n",
    "\n",
    "\n",
    "После подстановки значений, удовлетворяющих уравнению, собственный вектор примет вид:\n",
    "\n",
    "$$\\overline{u}_1 = \\begin{pmatrix}\n",
    "x_{1}\\\\ \n",
    "x_{2}\n",
    "\\end{pmatrix}\n",
    "=\n",
    "\\begin{pmatrix}\n",
    "3\\\\ \n",
    "-2\n",
    "\\end{pmatrix}\n",
    "$$"
   ]
  },
  {
   "cell_type": "markdown",
   "metadata": {
    "colab_type": "text",
    "id": "_8uW26YXCG1D"
   },
   "source": [
    "$\\lambda_2 = 2$:\n",
    "\n",
    "$$\\begin{cases}\n",
    "-x_{1}-6\\cdot x_{2}= 2\\cdot x_{1} \\\\\n",
    "2\\cdot x_{1}+6\\cdot x_{2}= 2\\cdot x_{2}\n",
    "\\end{cases}$$\n",
    "\n",
    "$$\\begin{cases}\n",
    "-3x_{1}-6x_{2}= 0 \\\\\n",
    "2x_{1}+4x_{2}= 0\n",
    "\\end{cases}$$\n",
    "\n",
    "$$x_1 = -2x_2$$\n",
    "\n",
    "\n",
    "После подстановки значений, удовлетворяющих уравнению, собственный вектор примет вид:\n",
    "\n",
    "$$\\overline{u}_2 = \\begin{pmatrix}\n",
    "x_{1}\\\\ \n",
    "x_{2}\n",
    "\\end{pmatrix}\n",
    "=\n",
    "\\begin{pmatrix}\n",
    "2\\\\ \n",
    "-1\n",
    "\\end{pmatrix}\n",
    "$$"
   ]
  },
  {
   "cell_type": "markdown",
   "metadata": {},
   "source": [
    "`Ответ:`\n",
    "\n",
    "Собственные значения:\n",
    "\n",
    "$\\lambda_1 = 2,\\quad \\lambda_2 = 3$\n",
    "\n",
    "Собственные векторы:\n",
    "\n",
    "$\\overline{u}_1 = (3,-2),\\quad \\overline{u}_2 = (2,-1)$\n",
    "\n"
   ]
  },
  {
   "cell_type": "code",
   "execution_count": 17,
   "metadata": {},
   "outputs": [
    {
     "name": "stdout",
     "output_type": "stream",
     "text": [
      "Матрица A:\n",
      "[[-1  6]\n",
      " [ 2  6]]\n",
      "Собственные значения:\n",
      "[-2.42  7.42]\n",
      "Собственные векторы:\n",
      "[[-0.97 -0.58]\n",
      " [ 0.23 -0.81]]\n"
     ]
    }
   ],
   "source": [
    "a = np.array([[-1, 6], [2, 6]])\n",
    "w, v = np.linalg.eig(a)\n",
    "\n",
    "print(f'Матрица A:\\n{a}')\n",
    "print(f'Собственные значения:\\n{w}')\n",
    "print(f'Собственные векторы:\\n{v}')"
   ]
  },
  {
   "cell_type": "markdown",
   "metadata": {},
   "source": [
    "__2.__ Дан оператор поворота на 180 градусов, задаваемый матрицей \n",
    "\n",
    "$$A=\\begin{pmatrix}\n",
    "-1 & 0\\\\ \n",
    "0 & -1\n",
    "\\end{pmatrix}.$$\n",
    "\n",
    "Показать, что __любой__ вектор является для него собственным."
   ]
  },
  {
   "cell_type": "markdown",
   "metadata": {},
   "source": [
    "`Решение:`"
   ]
  },
  {
   "cell_type": "markdown",
   "metadata": {},
   "source": [
    "$$Ae_{1}=-e_{1},$$\n",
    "\n",
    "$$Ae_{2}=-e_{2}.$$"
   ]
  },
  {
   "cell_type": "markdown",
   "metadata": {},
   "source": [
    "$$\\begin{vmatrix}\n",
    "-1-\\lambda & 0\\\\ \n",
    "0 & -1-\\lambda\n",
    "\\end{vmatrix} = 0,$$\n",
    "\n",
    "$$(-1-\\lambda)^2=0,$$\n",
    "\n",
    "$$\\lambda_{1,2} = -1$$\n"
   ]
  },
  {
   "cell_type": "markdown",
   "metadata": {},
   "source": [
    "$$\\begin{pmatrix}\n",
    "-1 & 0\\\\ \n",
    "0 & -1\n",
    "\\end{pmatrix}\n",
    "\\begin{pmatrix}\n",
    "x_{1}\\\\ \n",
    "x_{2}\n",
    "\\end{pmatrix}=\n",
    "\\lambda\n",
    "\\begin{pmatrix}\n",
    "x_{1}\\\\ \n",
    "x_{2}\n",
    "\\end{pmatrix}.\n",
    "$$"
   ]
  },
  {
   "cell_type": "markdown",
   "metadata": {},
   "source": [
    "$$\\begin{cases}\n",
    "-x_{1}+0\\cdot x_{2}= -x_{1} \\\\\n",
    "0\\cdot x_{1}-x_{2}= -x_{2}\n",
    "\\end{cases}$$\n",
    "\n",
    "Перенося все в левую часть, видно, что при любых значениях $x_{1,2}$ ответ не изменится:\n",
    "\n",
    "$$\\begin{cases}\n",
    "0\\cdot x_{2}= 0 \\\\\n",
    "0\\cdot x_{1}= 0\n",
    "\\end{cases}$$\n",
    "\n",
    "Таким образом, любые координаты вектора удовлетворят определению собственного вектора для данной матрицы."
   ]
  },
  {
   "cell_type": "markdown",
   "metadata": {},
   "source": [
    "__3.__ Пусть линейный оператор задан матрицей\n",
    "\n",
    "$$A=\\begin{pmatrix}\n",
    "1 & 1\\\\ \n",
    "-1 & 3\n",
    "\\end{pmatrix}.$$\n",
    "\n",
    "Установить, является ли вектор $x=(1,1)$ собственным вектором этого линейного оператора."
   ]
  },
  {
   "cell_type": "markdown",
   "metadata": {},
   "source": [
    "`Решение:`"
   ]
  },
  {
   "cell_type": "markdown",
   "metadata": {},
   "source": [
    "Предположим, что вектор $x$ является собственным вектором заданного линейного оператора, тогда должно существовать некоторое вещественное число $\\lambda$, при котором\n",
    "\n",
    "$$\\begin{pmatrix}\n",
    "1 & 1\\\\ \n",
    "-1 & 3\n",
    "\\end{pmatrix}\n",
    "\\begin{pmatrix}\n",
    "1\\\\ \n",
    "1\n",
    "\\end{pmatrix}=\n",
    "\\lambda\n",
    "\\begin{pmatrix}\n",
    "1\\\\ \n",
    "1\n",
    "\\end{pmatrix}.\n",
    "$$"
   ]
  },
  {
   "cell_type": "markdown",
   "metadata": {},
   "source": [
    "$$\\begin{cases}\n",
    "1+1=\\lambda \\\\ \n",
    "-1+3 = \\lambda\n",
    "\\end{cases}\n",
    "\\Rightarrow\n",
    "\\begin{cases}\n",
    "\\lambda=2\\\\ \n",
    "\\lambda=2\n",
    "\\end{cases}.$$\n",
    "\n",
    "Вектор $x=(1,1)$ является собственным вектором линейного оператора, заданного матрицей $A$"
   ]
  },
  {
   "cell_type": "markdown",
   "metadata": {},
   "source": [
    "__4.__ Пусть линейный оператор задан матрицей\n",
    "\n",
    "$$A=\\begin{pmatrix}\n",
    "0 & 3 & 0\\\\ \n",
    "3 & 0 & 0\\\\\n",
    "0 & 0 & 3\n",
    "\\end{pmatrix}.$$\n",
    "\n",
    "Установить, является ли вектор $x=(3, -3, -4)$ собственным вектором этого линейного оператора."
   ]
  },
  {
   "cell_type": "markdown",
   "metadata": {},
   "source": [
    "`Решение:`"
   ]
  },
  {
   "cell_type": "markdown",
   "metadata": {
    "colab_type": "text",
    "id": "rzVjSolwCG2P"
   },
   "source": [
    "Предположим, что вектор $x$ является собственным вектором заданного линейного оператора, тогда получим:\n",
    "\n",
    "$$\\begin{pmatrix}\n",
    "0 & 3 & 0\\\\ \n",
    "3 & 0 & 0\\\\\n",
    "0 & 0 & 3\n",
    "\\end{pmatrix}\n",
    "\\begin{pmatrix}\n",
    "3\\\\\n",
    "-3\\\\\n",
    "-4\n",
    "\\end{pmatrix}=\n",
    "\\lambda\n",
    "\\begin{pmatrix}\n",
    "3\\\\\n",
    "-3\\\\\n",
    "-4\n",
    "\\end{pmatrix}\n",
    "$$\n",
    "\n",
    "$$\\Rightarrow\n",
    "\\begin{cases}\n",
    "3\\lambda=-9\\\\ \n",
    "-3\\lambda=9\\\\\n",
    "-4\\lambda=-12\n",
    "\\end{cases}\n",
    "\\Rightarrow\n",
    "\\begin{cases}\n",
    "\\lambda=-3\\\\ \n",
    "\\lambda=-3\\\\\n",
    "\\lambda=3\n",
    "\\end{cases}.$$\n",
    "\n",
    "Таким образом, вектор $x=(3,-3,-4)$ не является собственным вектором линейного оператора, заданного матрицей $A$"
   ]
  },
  {
   "cell_type": "code",
   "execution_count": null,
   "metadata": {},
   "outputs": [],
   "source": []
  }
 ],
 "metadata": {
  "kernelspec": {
   "display_name": "Python 3",
   "language": "python",
   "name": "python3"
  },
  "language_info": {
   "codemirror_mode": {
    "name": "ipython",
    "version": 3
   },
   "file_extension": ".py",
   "mimetype": "text/x-python",
   "name": "python",
   "nbconvert_exporter": "python",
   "pygments_lexer": "ipython3",
   "version": "3.7.3"
  }
 },
 "nbformat": 4,
 "nbformat_minor": 2
}
