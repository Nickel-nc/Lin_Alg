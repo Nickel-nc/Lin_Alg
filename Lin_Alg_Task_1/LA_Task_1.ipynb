{
 "cells": [
  {
   "cell_type": "markdown",
   "metadata": {},
   "source": [
    "# Линейная Алгебра"
   ]
  },
  {
   "cell_type": "code",
   "execution_count": 1,
   "metadata": {},
   "outputs": [],
   "source": [
    "import numpy as np\n",
    "from numpy.linalg import norm"
   ]
  },
  {
   "cell_type": "markdown",
   "metadata": {},
   "source": [
    "\n",
    "## Линейное пространство. Основные понятия. Часть 1"
   ]
  },
  {
   "cell_type": "markdown",
   "metadata": {
    "colab_type": "text",
    "id": "SmdURZ_OkVqQ"
   },
   "source": [
    "__1.__ Исследовать на линейную зависимость:\n",
    "$$f_{1}(x)=e^{x}, f_{2}(x)=1, f_{3}(x)=x+1, f_{4}(x)=x-e^{x}.$$"
   ]
  },
  {
   "cell_type": "code",
   "execution_count": null,
   "metadata": {},
   "outputs": [],
   "source": []
  },
  {
   "cell_type": "markdown",
   "metadata": {},
   "source": [
    "`Решение:`\n",
    "Линейную зависимость можно выразить через $f_1$:\n",
    "\n",
    "$f_1 = -f_4 + f_3 - f_2$"
   ]
  },
  {
   "cell_type": "code",
   "execution_count": 8,
   "metadata": {},
   "outputs": [
    {
     "data": {
      "text/plain": [
       "True"
      ]
     },
     "execution_count": 8,
     "metadata": {},
     "output_type": "execute_result"
    }
   ],
   "source": [
    "from math import exp\n",
    "x =1\n",
    "f1 = exp(x)\n",
    "f2 = 1\n",
    "f3 = x + 1\n",
    "f4 = x - exp(x)\n",
    "f1 == -f4 + f3 - f2"
   ]
  },
  {
   "cell_type": "markdown",
   "metadata": {
    "colab_type": "text",
    "id": "cECfCSANkVqR"
   },
   "source": [
    "__2.__ Исследовать на линейную зависимость:\n",
    "$$f_{1}(x)=2, f_{2}(x)=x, f_{3}(x)=x^{2}, f_{4}(x)=(x+1)^{2}.$$"
   ]
  },
  {
   "cell_type": "markdown",
   "metadata": {},
   "source": [
    "`Решение:`\n",
    "Линейную зависимость можно выразить через f_4:\n",
    "\n",
    "$f_4 = f_3 + 2f_2 + \\frac{f_1}{2}$"
   ]
  },
  {
   "cell_type": "markdown",
   "metadata": {
    "colab_type": "text",
    "id": "DFrjdtbHkVqS"
   },
   "source": [
    "__3.__ Найти координаты вектора $x = (2, 3, 5)\\in \\mathbb{R}^{3}$ в базисе $b_{1}=(0, 0, 10)$, $b_{2}=(2, 0, 0)$, $b_{3}=(0, 1, 0)$."
   ]
  },
  {
   "cell_type": "markdown",
   "metadata": {},
   "source": [
    "`Решение:`\n",
    "$$x=(2, 3, 5)=(2,0,0)+(0, 3, 0)+(0, 0, 5)=1\\cdot(2, 0, 0)+3\\cdot(0, 1, 0)+0.5\\cdot(0, 0, 10)=e_{2}+3e_{3}+0.5e_{1},$$\n",
    "\n",
    "\n",
    "то есть координатами вектора $x$ в заданном базисе являются $1$, $3$, $0.5$."
   ]
  },
  {
   "cell_type": "markdown",
   "metadata": {
    "colab_type": "text",
    "id": "5la-eVLukVqT"
   },
   "source": [
    "__4.__ Найти координаты вектора $3x^{2}-2x+2\\in\\mathbb{R}^{3}[x]$:\n",
    "\n",
    "   а) в базисе $1$, $x$, $x^{2}$;\n",
    "\n",
    "   б) в базисе $x^{2}$, $x-1$, $1$."
   ]
  },
  {
   "cell_type": "markdown",
   "metadata": {},
   "source": [
    "`Решение:`"
   ]
  },
  {
   "cell_type": "markdown",
   "metadata": {},
   "source": [
    "__a)__ \n",
    "$$e_1 = (1,0,0), e_2 = (0,x,0), e_3 = (0,0,x^2)$$\n",
    "$$3x^2e_1 - 2e_2 + \\frac{2e_3}{x^2}$$"
   ]
  },
  {
   "cell_type": "markdown",
   "metadata": {},
   "source": [
    "__б)__ \n",
    "$$e_1 = (x^2,0,0), e_2 = (0,x-1,0), e_3 = (0,0,1)$$\n",
    "$$3e_1 - 2e_2-2 + 2e_3$$"
   ]
  },
  {
   "cell_type": "markdown",
   "metadata": {
    "colab_type": "text",
    "id": "kQlell_GkVqU"
   },
   "source": [
    "__5.__ Установить, является ли линейным подпространством:\n",
    "\n",
    "а) совокупность всех векторов трехмерного пространства, у которых по крайней мере одна из первых двух координат равна нулю;\n",
    "    \n",
    "б) все векторы, являющиеся линейными комбинациями данных векторов $\\{u_{1}, u_{2}, ..., u_{n}\\}$."
   ]
  },
  {
   "cell_type": "markdown",
   "metadata": {},
   "source": [
    "`Решение:`"
   ]
  },
  {
   "cell_type": "markdown",
   "metadata": {},
   "source": [
    "__a)__\n",
    "Совокупность состоит из векторов следующего вида:\n",
    "\n",
    "$(0, a, b), (c, 0 , d), (0, 0, e)$\n",
    "\n",
    "Для векторов первых двух типов, первое свойство $(0, a, b)+(c, 0, d) = (0 + c, a + 0, b+d) $ - не выполняется, т.к. при при сумме получаем вектор, не принадлежащий множеству.\n",
    "\n",
    "Условие будет выполняться при a,c = 0"
   ]
  },
  {
   "cell_type": "markdown",
   "metadata": {},
   "source": [
    "__б)__\n",
    "\n",
    "Условие будет выполняться"
   ]
  },
  {
   "cell_type": "markdown",
   "metadata": {
    "colab_type": "text",
    "id": "c9EHjpDAc7Zy"
   },
   "source": [
    "# Линейное пространство. Основные понятия. Часть 2"
   ]
  },
  {
   "cell_type": "markdown",
   "metadata": {},
   "source": [
    "__1.__ Найти скалярное произведение векторов $x, y \\in \\mathbb{R}$:<br>\n",
    "а) $x=(0,-3, 6),~y=(-4, 7, 9);$<br>\n",
    "б) $x=(7, -4, 0, 1),~y=(-3, 1, 11, 2).$"
   ]
  },
  {
   "cell_type": "markdown",
   "metadata": {},
   "source": [
    "`Решение:`"
   ]
  },
  {
   "cell_type": "markdown",
   "metadata": {},
   "source": [
    "__a)__ \n",
    "\n",
    "$$(x,y)=0\\cdot-4+(-3)\\cdot7+6\\cdot9=0 - 21 + 54=33$$"
   ]
  },
  {
   "cell_type": "code",
   "execution_count": 2,
   "metadata": {},
   "outputs": [
    {
     "data": {
      "text/plain": [
       "33"
      ]
     },
     "execution_count": 2,
     "metadata": {},
     "output_type": "execute_result"
    }
   ],
   "source": [
    "x = np.array([0, -3, 6])\n",
    "y = np.array([-4, 7, 9])\n",
    "x.dot(y)"
   ]
  },
  {
   "cell_type": "markdown",
   "metadata": {},
   "source": [
    "__б)__ \n",
    "\n",
    "$$(x,y)=7\\cdot-3+(-4)\\cdot1+0\\cdot11+1\\cdot2= -21 - 4 + 0 + 2 = -23$$"
   ]
  },
  {
   "cell_type": "code",
   "execution_count": 3,
   "metadata": {},
   "outputs": [
    {
     "data": {
      "text/plain": [
       "-23"
      ]
     },
     "execution_count": 3,
     "metadata": {},
     "output_type": "execute_result"
    }
   ],
   "source": [
    "x = np.array([7, -4, 0, 1])\n",
    "y = np.array([-3, 1, 11, 2])\n",
    "x.dot(y)"
   ]
  },
  {
   "cell_type": "markdown",
   "metadata": {},
   "source": [
    "__2.__ Найти нормы векторов $(4, 2, 4)$ и $(12, 3, 4)$ и угол между ними."
   ]
  },
  {
   "cell_type": "markdown",
   "metadata": {},
   "source": [
    "`Решение:`"
   ]
  },
  {
   "cell_type": "markdown",
   "metadata": {},
   "source": [
    "Манхэттенская (p=1) и евклидова (p=2) нормы для каждого из векторовов\n",
    "$$\\left\\|a\\right\\|_{1} = |4|+|2|+|4|=10 \\qquad \\left\\|a\\right\\|_{2} = \\sqrt{4^2 + 2^2 + 4^2}=\\sqrt{36} = 6$$\n",
    "$$\\left\\|b\\right\\|_{1} = |12|+|3|+|4|=19 \\qquad \\left\\|b\\right\\|_{2} = \\sqrt{12^2 + 3^2 + 4^2}=\\sqrt{169} = 13$$"
   ]
  },
  {
   "cell_type": "code",
   "execution_count": 26,
   "metadata": {},
   "outputs": [
    {
     "name": "stdout",
     "output_type": "stream",
     "text": [
      "\n",
      "Норма вектора a:\n",
      "    манхэттенская: 10.0, евклидова: 6.0\n",
      "\n",
      "Норма вектора b:\n",
      "    манхэттенская: 19.0, евклидова: 13.0\n"
     ]
    }
   ],
   "source": [
    "a, b = np.array([4,2,4]), np.array([12,3,4])\n",
    "\n",
    "print(f\"\"\"\n",
    "Норма вектора a:\n",
    "    манхэттенская: {norm(a, ord=1)}, евклидова: {norm(a, ord=2)}\\n\n",
    "Норма вектора b:\n",
    "    манхэттенская: {norm(b, ord=1)}, евклидова: {norm(b, ord=2)}\"\"\")"
   ]
  },
  {
   "cell_type": "markdown",
   "metadata": {},
   "source": [
    "Угол между векторами:\n",
    "$$cos\\varphi = \\frac{(a,b)}{\\left \\|a\\right \\|\\cdot\\left \\|b\\right \\|}$$\n",
    "\n",
    "$$cos\\varphi = \\frac{4\\cdot12+2\\cdot3+4\\cdot4}{\\sqrt{4^{2}+2^{2}+4^{2}}\\sqrt{12^{2}+3^{2}+4^{2}}}=\\frac{70}{\\sqrt{6084}}\\approx 0.897$$"
   ]
  },
  {
   "cell_type": "code",
   "execution_count": 30,
   "metadata": {},
   "outputs": [
    {
     "name": "stdout",
     "output_type": "stream",
     "text": [
      "Косинус угла между a и b: 0.90\n",
      "Угол между a и b: 0.46\n"
     ]
    }
   ],
   "source": [
    "cos_phi = np.dot(a, b) / norm(a) / norm(b)\n",
    "print(f'Косинус угла между a и b: {cos_phi:.2f}')\n",
    "print(f'Угол между a и b: {np.arccos(cos_phi):.2f}, рад')"
   ]
  },
  {
   "cell_type": "markdown",
   "metadata": {},
   "source": [
    "__3.__ Будет ли линейное пространство евклидовым, если за скалярное произведение принять:<br>\n",
    "а) произведение длин векторов;<br>\n",
    "б) утроенное обычное скалярное произведение векторов?  "
   ]
  },
  {
   "cell_type": "markdown",
   "metadata": {},
   "source": [
    "`Решение`: \n",
    "Пространство является евклидовым, если будут выполняться 4 аксиомы:\n",
    "\n",
    "__a)__ скалярное произведение задано $(x,y) = |x|\\cdot|y|$\n",
    "\n",
    "1) $(x,y) = |x_1|\\cdot|y_1| + |x_2|\\cdot|y_2| = |y_1|\\cdot|x_1| + |y_2|\\cdot|x_2| = (y,x);$<br>\n",
    "2) $(\\lambda x, y) = \\lambda|x_1|\\cdot|y_1| + \\lambda|x_2|\\cdot|y_2| = \\lambda\\left(|x_1|\\cdot|y_1| + |x_2|\\cdot|y_2|\\right)  = \\lambda(x, y);$<br>\n",
    "3) $(x_{1}+x_{2},y) $ не выполняется <br>\n",
    "4) $(x, x) = |x_1||x_1| + |x_2||x_2| = |x_1|^2 + |x_2|^2 \\geq0$, причем $(x,x)=0\\Leftrightarrow x=0.$"
   ]
  },
  {
   "cell_type": "markdown",
   "metadata": {},
   "source": [
    "__б)__ скалярное произведение задано $(x,y) = 3(x\\cdot y)$\n",
    "\n",
    "1) $(x,y) = 3(x_1\\cdot y_1) + 3(x_2\\cdot y_2) = 3(y_1\\cdot x_1) + 3(y_2\\cdot x_2) = (y,x);$<br>\n",
    "2) $(\\lambda x, y) = 3(\\lambda x_1)\\cdot y_1 + 3(\\lambda x_2)\\cdot y_2 = \\lambda\\left(3x_1 y_1 + 3x_2 y_2\\right)  = \\lambda(x, y);$<br>\n",
    "3) $(x_{1}+x_{2},y) = 3(x_1 + x_2)\\cdot y = (3x_1 \\cdot y ) + (3x_2\\cdot y) = (x_{1},y)+(x_{2},y);$<br>\n",
    "4) $(x, x) = 3x_1 x_1 + 3x_2 x_2 = 3x_1 ^2 + 3x_2^2 \\geq0$, причем $(x,x)=0\\Leftrightarrow x=0.$"
   ]
  },
  {
   "cell_type": "markdown",
   "metadata": {},
   "source": [
    "__4.__ Какие из нижеперечисленных векторов образуют ортонормированный базис в линейном пространстве $\\mathbb{R}^{3}$:<br>\n",
    "а) $(1,0,0),(0,0,1);$ <br>\n",
    "б) $(1/\\sqrt{2},-1/\\sqrt{2},0),(1/\\sqrt{2},1/\\sqrt{2},0), (0,0,1);$<br>\n",
    "в) $(1/2, -1/2, 0), (0, 1/2, 1/2), (0,0,1);$<br>\n",
    "г) $(1,0,0),(0,1,0),(0,0,1)?$ "
   ]
  },
  {
   "cell_type": "code",
   "execution_count": 51,
   "metadata": {},
   "outputs": [],
   "source": [
    "a = np.array([\n",
    "    [1,0,0],\n",
    "    [0,0,1]\n",
    "])\n",
    "b = np.array([\n",
    "    [1/(2**0.5), -1/(2**0.5),0],\n",
    "    [1/(2**0.5),1/(2**0.5),0],\n",
    "    [0,0,1]\n",
    "])\n",
    "c = np.array([\n",
    "    [1/2, -1/2, 0],\n",
    "    [0, 1/2, 1/2],\n",
    "    [0, 0, 1]\n",
    "])\n",
    "\n",
    "d = np.array([\n",
    "    [1,0,0],\n",
    "    [0,1,0],\n",
    "    [0,0,1]\n",
    "])"
   ]
  },
  {
   "cell_type": "markdown",
   "metadata": {},
   "source": [
    "`Ответ:`\n",
    "__а), б), г)__\n",
    "\n",
    "т.к. для этих векторов выполняются условия:\n",
    "$(e_{i}, e_{j})=0$ $\\forall$ $i\\neq j$ и $(e_{i},e_{i})=1$ $\\forall$ $i\\in[1, n].$"
   ]
  },
  {
   "cell_type": "code",
   "execution_count": 96,
   "metadata": {
    "scrolled": true
   },
   "outputs": [
    {
     "data": {
      "text/plain": [
       "0"
      ]
     },
     "execution_count": 96,
     "metadata": {},
     "output_type": "execute_result"
    }
   ],
   "source": [
    "d[2].dot(d[0])"
   ]
  },
  {
   "cell_type": "code",
   "execution_count": 78,
   "metadata": {},
   "outputs": [
    {
     "data": {
      "text/plain": [
       "1"
      ]
     },
     "execution_count": 78,
     "metadata": {},
     "output_type": "execute_result"
    }
   ],
   "source": [
    "d[1].dot(d[1])"
   ]
  }
 ],
 "metadata": {
  "kernelspec": {
   "display_name": "Python 3",
   "language": "python",
   "name": "python3"
  },
  "language_info": {
   "codemirror_mode": {
    "name": "ipython",
    "version": 3
   },
   "file_extension": ".py",
   "mimetype": "text/x-python",
   "name": "python",
   "nbconvert_exporter": "python",
   "pygments_lexer": "ipython3",
   "version": "3.7.3"
  }
 },
 "nbformat": 4,
 "nbformat_minor": 2
}
